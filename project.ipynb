{
 "cells": [
  {
   "cell_type": "code",
   "execution_count": null,
   "metadata": {},
   "outputs": [],
   "source": [
    "# рынок облигаций, Мосбиржа\n",
    "!python main.py download --engine stock --market bonds --date 2022-06-01 --dateend 2022-11-01\n",
    "\n",
    "# рынок акций/ETF, Мосбиржа\n",
    "!python main.py download --engine stock --market shares --date 2022-06-01 --dateend 2022-11-01\n",
    "\n",
    "# индексы, Мосбиржа\n",
    "!python main.py download --engine stock --market index ---date 2022-06-01 --dateend 2022-11-01\n",
    "\n",
    "# валюта, Мосбиржа\n",
    "!python main.py download --engine currency --market selt --date 2022-06-01 --dateend 2022-11-01"
   ]
  },
  {
   "cell_type": "code",
   "execution_count": 4,
   "metadata": {},
   "outputs": [],
   "source": [
    "# import requests\n",
    "# import datetime\n",
    "# import pathlib\n",
    "\n",
    "# SECIDs = [\"SBER\"]\n",
    "# DISK = \"DATA\"\n",
    "# for SECID in SECIDs:\n",
    "#     from_date = \"2020-05-04\"\n",
    "#     to_date = \"2005-01-03\"\n",
    "#     while str(to_date) != str(from_date):\n",
    "#         to_date = str(to_date)\n",
    "#         to_date = to_date.split('-')\n",
    "#         a = datetime.date(int(to_date[0]), int(to_date[1]), int(to_date[2]))\n",
    "#         b = datetime.timedelta(days=140)\n",
    "#         to_date = a + b\n",
    "#         pathlib.Path(\"{}:/{}/{}\".format(DISK, \"Database_MOEX\", SECID)).mkdir(parents=True, exist_ok=True)\n",
    "#         filename = SECID + \"_\" + str(to_date) + \".csv\"\n",
    "#         with requests.get(\"http://iss.moex.com/iss/history/engines/stock/markets/shares/boards/tqbr/securities/{}.csv?date={}\".format(SECID, to_date)) as response:\n",
    "#             with open(\"{}:/Database_MOEX/{}/{}\".format(DISK, SECID, filename), 'wb') as f:\n",
    "#                 for chunk in response.iter_content():\n",
    "#                     f.write(chunk)"
   ]
  },
  {
   "cell_type": "code",
   "execution_count": null,
   "metadata": {},
   "outputs": [],
   "source": [
    "import pip\n",
    "pip.main([\"install\", \"apimoex\"])\n",
    "\n",
    "import requests\n",
    "\n",
    "import apimoex\n",
    "import pandas as pd"
   ]
  },
  {
   "cell_type": "code",
   "execution_count": 16,
   "metadata": {},
   "outputs": [
    {
     "name": "stdout",
     "output_type": "stream",
     "text": [
      "           BOARDID  CLOSE    VOLUME         VALUE\n",
      "TRADEDATE                                        \n",
      "2014-06-09    TQBR  27.48  12674200  3.484352e+08\n",
      "2014-06-10    TQBR  27.55  14035900  3.856417e+08\n",
      "2014-06-11    TQBR  28.15  27208800  7.602146e+08\n",
      "2014-06-16    TQBR  28.27  68059900  1.913160e+09\n",
      "2014-06-17    TQBR  28.20  22101600  6.292844e+08 \n",
      "\n",
      "           BOARDID   CLOSE    VOLUME        VALUE\n",
      "TRADEDATE                                        \n",
      "2022-11-28    TQBR  24.820   3977600   98773153.5\n",
      "2022-11-29    TQBR  24.910   3243900   80633022.0\n",
      "2022-11-30    TQBR  24.885   2181300   54158067.5\n",
      "2022-12-01    TQBR  24.845   3707000   91971841.5\n",
      "2022-12-02    TQBR  25.845  26128200  671995948.0 \n",
      "\n",
      "<class 'pandas.core.frame.DataFrame'>\n",
      "Index: 2141 entries, 2014-06-09 to 2022-12-02\n",
      "Data columns (total 4 columns):\n",
      " #   Column   Non-Null Count  Dtype  \n",
      "---  ------   --------------  -----  \n",
      " 0   BOARDID  2141 non-null   object \n",
      " 1   CLOSE    2123 non-null   float64\n",
      " 2   VOLUME   2141 non-null   int64  \n",
      " 3   VALUE    2141 non-null   float64\n",
      "dtypes: float64(2), int64(1), object(1)\n",
      "memory usage: 83.6+ KB\n"
     ]
    }
   ],
   "source": [
    "with requests.Session() as session:\n",
    "    data = apimoex.get_board_history(session, 'SNGSP')\n",
    "    df = pd.DataFrame(data)\n",
    "    df.set_index('TRADEDATE', inplace=True)\n",
    "    print(df.head(), '\\n')\n",
    "    print(df.tail(), '\\n')\n",
    "    df.info()\n",
    "    df.to_csv(r'df.csv', header=None, index=None, sep=' ', mode='a')"
   ]
  }
 ],
 "metadata": {
  "kernelspec": {
   "display_name": "Python 3.10.7 64-bit",
   "language": "python",
   "name": "python3"
  },
  "language_info": {
   "codemirror_mode": {
    "name": "ipython",
    "version": 3
   },
   "file_extension": ".py",
   "mimetype": "text/x-python",
   "name": "python",
   "nbconvert_exporter": "python",
   "pygments_lexer": "ipython3",
   "version": "3.10.7"
  },
  "orig_nbformat": 4,
  "vscode": {
   "interpreter": {
    "hash": "aee8b7b246df8f9039afb4144a1f6fd8d2ca17a180786b69acc140d282b71a49"
   }
  }
 },
 "nbformat": 4,
 "nbformat_minor": 2
}
